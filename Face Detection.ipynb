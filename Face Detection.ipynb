{
 "cells": [
  {
   "cell_type": "code",
   "execution_count": 17,
   "metadata": {},
   "outputs": [
    {
     "ename": "error",
     "evalue": "OpenCV(4.8.0) D:\\a\\opencv-python\\opencv-python\\opencv\\modules\\highgui\\src\\window.cpp:1266: error: (-2:Unspecified error) The function is not implemented. Rebuild the library with Windows, GTK+ 2.x or Cocoa support. If you are on Ubuntu or Debian, install libgtk2.0-dev and pkg-config, then re-run cmake or configure script in function 'cvDestroyAllWindows'\n",
     "output_type": "error",
     "traceback": [
      "\u001b[1;31m---------------------------------------------------------------------------\u001b[0m",
      "\u001b[1;31merror\u001b[0m                                     Traceback (most recent call last)",
      "\u001b[1;32mc:\\Users\\Ameyo\\OneDrive\\Desktop\\Video Face Detection\\Face Detection.ipynb Cell 1\u001b[0m line \u001b[0;36m6\n\u001b[0;32m     <a href='vscode-notebook-cell:/c%3A/Users/Ameyo/OneDrive/Desktop/Video%20Face%20Detection/Face%20Detection.ipynb#X20sZmlsZQ%3D%3D?line=60'>61</a>\u001b[0m cap\u001b[39m.\u001b[39mrelease()\n\u001b[0;32m     <a href='vscode-notebook-cell:/c%3A/Users/Ameyo/OneDrive/Desktop/Video%20Face%20Detection/Face%20Detection.ipynb#X20sZmlsZQ%3D%3D?line=61'>62</a>\u001b[0m out\u001b[39m.\u001b[39mrelease()\n\u001b[1;32m---> <a href='vscode-notebook-cell:/c%3A/Users/Ameyo/OneDrive/Desktop/Video%20Face%20Detection/Face%20Detection.ipynb#X20sZmlsZQ%3D%3D?line=62'>63</a>\u001b[0m cv2\u001b[39m.\u001b[39;49mdestroyAllWindows()\n\u001b[0;32m     <a href='vscode-notebook-cell:/c%3A/Users/Ameyo/OneDrive/Desktop/Video%20Face%20Detection/Face%20Detection.ipynb#X20sZmlsZQ%3D%3D?line=64'>65</a>\u001b[0m \u001b[39m# Display the total number of faces detected in the entire video on the next line\u001b[39;00m\n\u001b[0;32m     <a href='vscode-notebook-cell:/c%3A/Users/Ameyo/OneDrive/Desktop/Video%20Face%20Detection/Face%20Detection.ipynb#X20sZmlsZQ%3D%3D?line=65'>66</a>\u001b[0m \u001b[39mprint\u001b[39m(\u001b[39mf\u001b[39m\u001b[39m'\u001b[39m\u001b[39mTotal Faces Detected in Video: \u001b[39m\u001b[39m{\u001b[39;00mtotal_faces\u001b[39m}\u001b[39;00m\u001b[39m\\n\u001b[39;00m\u001b[39m'\u001b[39m)\n",
      "\u001b[1;31merror\u001b[0m: OpenCV(4.8.0) D:\\a\\opencv-python\\opencv-python\\opencv\\modules\\highgui\\src\\window.cpp:1266: error: (-2:Unspecified error) The function is not implemented. Rebuild the library with Windows, GTK+ 2.x or Cocoa support. If you are on Ubuntu or Debian, install libgtk2.0-dev and pkg-config, then re-run cmake or configure script in function 'cvDestroyAllWindows'\n"
     ]
    }
   ],
   "source": [
    "import torch\n",
    "import torchvision.transforms as transforms\n",
    "from torchvision.models.detection import ssdlite320_mobilenet_v3_large\n",
    "import cv2\n",
    "\n",
    "# Load the pre-trained SSD model with MobileNetV3 backbone\n",
    "model = ssdlite320_mobilenet_v3_large(pretrained=True)\n",
    "model.eval()\n",
    "\n",
    "# Define a function to detect faces in a frame\n",
    "def detect_faces(frame, model):\n",
    "    transform = transforms.Compose([transforms.ToTensor()])\n",
    "    image = transform(frame).unsqueeze(0)\n",
    "\n",
    "    with torch.no_grad():\n",
    "        prediction = model(image)\n",
    "\n",
    "    boxes = prediction[0]['boxes'].cpu().numpy()\n",
    "    scores = prediction[0]['scores'].cpu().numpy()\n",
    "\n",
    "    # Filter out low-confidence detections\n",
    "    threshold = 0.8\n",
    "    detected_faces = [box for box, score in zip(boxes, scores) if score > threshold]\n",
    "\n",
    "    return detected_faces\n",
    "\n",
    "# Open the video capture\n",
    "cap = cv2.VideoCapture('C:\\\\Users\\\\Ameyo\\\\Downloads\\\\faces01 (1) (1).mp4')\n",
    "\n",
    "# Get the video's frames per second (fps) and frame dimensions\n",
    "fps = int(cap.get(cv2.CAP_PROP_FPS))\n",
    "width = int(cap.get(cv2.CAP_PROP_FRAME_WIDTH))\n",
    "height = int(cap.get(cv2.CAP_PROP_FRAME_HEIGHT))\n",
    "\n",
    "# Define the codec and create a VideoWriter object to save the edited video\n",
    "fourcc = cv2.VideoWriter_fourcc(*'XVID')\n",
    "out = cv2.VideoWriter('output_video.avi', fourcc, fps, (width, height))\n",
    "\n",
    "# Initialize counters\n",
    "total_faces = 0\n",
    "\n",
    "while cap.isOpened():\n",
    "    ret, frame = cap.read()\n",
    "    if not ret:\n",
    "        break\n",
    "\n",
    "    detected_faces = detect_faces(frame, model)\n",
    "    num_detected_faces = len(detected_faces)\n",
    "    total_faces += num_detected_faces  # Update total faces count\n",
    "\n",
    "    # Display the number of detected faces and total faces in the top right corner\n",
    "    text = f'Face: {num_detected_faces},Total: {total_faces}'\n",
    "    cv2.putText(frame, text, (width - 350, 30), cv2.FONT_HERSHEY_SIMPLEX, 1, (0, 255, 0), 2)\n",
    "\n",
    "    for box in detected_faces:\n",
    "        x1, y1, x2, y2 = map(int, box)\n",
    "        cv2.rectangle(frame, (x1, y1), (x2, y2), (0, 255, 0), 2)\n",
    "\n",
    "    out.write(frame)\n",
    "\n",
    "cap.release()\n",
    "out.release()\n",
    "cv2.destroyAllWindows()\n",
    "\n",
    "# Display the total number of faces detected in the entire video on the next line\n",
    "print(f'Total Faces Detected in Video: {total_faces}\\n')\n",
    "\n"
   ]
  }
 ],
 "metadata": {
  "kernelspec": {
   "display_name": "Python 3",
   "language": "python",
   "name": "python3"
  },
  "language_info": {
   "codemirror_mode": {
    "name": "ipython",
    "version": 3
   },
   "file_extension": ".py",
   "mimetype": "text/x-python",
   "name": "python",
   "nbconvert_exporter": "python",
   "pygments_lexer": "ipython3",
   "version": "3.10.11"
  },
  "orig_nbformat": 4
 },
 "nbformat": 4,
 "nbformat_minor": 2
}
